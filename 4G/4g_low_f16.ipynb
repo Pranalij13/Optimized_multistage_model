{
 "cells": [
  {
   "cell_type": "markdown",
   "id": "d094f576-ce10-4cc5-9fa3-b2f7d1b12870",
   "metadata": {},
   "source": [
    "Weights and activations are stored in 16-bit floating point. Since each weight is still stored as a floating-point value, the reduction in size is moderate. The Float16 format allows for more precision and a larger range of values than integer quantization."
   ]
  },
  {
   "cell_type": "code",
   "execution_count": 1,
   "id": "8ff7f595-ea4b-42bb-943a-d8cb1d87ee4d",
   "metadata": {},
   "outputs": [
    {
     "name": "stdout",
     "output_type": "stream",
     "text": [
      "WARNING:tensorflow:From C:\\Users\\pranali\\anaconda3\\Lib\\site-packages\\tf_keras\\src\\losses.py:2976: The name tf.losses.sparse_softmax_cross_entropy is deprecated. Please use tf.compat.v1.losses.sparse_softmax_cross_entropy instead.\n",
      "\n"
     ]
    },
    {
     "name": "stderr",
     "output_type": "stream",
     "text": [
      "C:\\Users\\pranali\\anaconda3\\Lib\\site-packages\\keras\\src\\layers\\rnn\\rnn.py:204: UserWarning: Do not pass an `input_shape`/`input_dim` argument to a layer. When using Sequential models, prefer using an `Input(shape)` object as the first layer in the model instead.\n",
      "  super().__init__(**kwargs)\n",
      "C:\\Users\\pranali\\anaconda3\\Lib\\site-packages\\keras\\src\\optimizers\\base_optimizer.py:33: UserWarning: Argument `decay` is no longer supported and will be ignored.\n",
      "  warnings.warn(\n",
      "WARNING:absl:Compiled the loaded model, but the compiled metrics have yet to be built. `model.compile_metrics` will be empty until you train or evaluate the model.\n",
      "WARNING:absl:Error in loading the saved optimizer state. As a result, your model is starting with a freshly initialized optimizer.\n"
     ]
    },
    {
     "name": "stdout",
     "output_type": "stream",
     "text": [
      "<class 'keras.src.models.sequential.Sequential'>\n"
     ]
    }
   ],
   "source": [
    "import tensorflow as tf\n",
    "import tensorflow_model_optimization as tfmot\n",
    "from tensorflow.keras.layers import LSTM\n",
    "from tensorflow.keras.models import load_model\n",
    "from tensorflow.keras.utils import get_custom_objects\n",
    "import tensorflow.keras.backend as K\n",
    "\n",
    "\n",
    "# Define the custom LSTM layer\n",
    "class CustomLSTM(LSTM):\n",
    "    def __init__(self, *args, **kwargs):\n",
    "        kwargs.pop('time_major', None)\n",
    "        super(CustomLSTM, self).__init__(*args, **kwargs)\n",
    "\n",
    "# Define a custom MSE function\n",
    "def custom_mse(y_true, y_pred):\n",
    "    return K.mean(K.square(y_pred - y_true), axis=-1)\n",
    "\n",
    "\n",
    "# Load the model\n",
    "trained_model = tf.keras.models.load_model(\n",
    "    r\"C:\\Users\\pranali\\Desktop\\Throughput_prediction\\4G-Models\\Models\\multivariate_low.hdf5\",\n",
    "    custom_objects={'LSTM': CustomLSTM, 'mse': custom_mse}\n",
    ")\n",
    "\n",
    "# Check the model type\n",
    "print(type(trained_model))"
   ]
  },
  {
   "cell_type": "code",
   "execution_count": 2,
   "id": "e0bc33b9-bdc5-4cee-a04a-eab90cc999fa",
   "metadata": {},
   "outputs": [
    {
     "name": "stdout",
     "output_type": "stream",
     "text": [
      "INFO:tensorflow:Assets written to: C:\\Users\\pranali\\AppData\\Local\\Temp\\tmpd1r6ct4t\\assets\n"
     ]
    },
    {
     "name": "stderr",
     "output_type": "stream",
     "text": [
      "INFO:tensorflow:Assets written to: C:\\Users\\pranali\\AppData\\Local\\Temp\\tmpd1r6ct4t\\assets\n"
     ]
    },
    {
     "name": "stdout",
     "output_type": "stream",
     "text": [
      "Saved artifact at 'C:\\Users\\pranali\\AppData\\Local\\Temp\\tmpd1r6ct4t'. The following endpoints are available:\n",
      "\n",
      "* Endpoint 'serve'\n",
      "  args_0 (POSITIONAL_ONLY): TensorSpec(shape=(None, 10, 10), dtype=tf.float32, name='lstm_input')\n",
      "Output Type:\n",
      "  TensorSpec(shape=(None, 5), dtype=tf.float32, name=None)\n",
      "Captures:\n",
      "  2005039733200: TensorSpec(shape=(), dtype=tf.resource, name=None)\n",
      "  2005039736656: TensorSpec(shape=(), dtype=tf.resource, name=None)\n",
      "  2005039737616: TensorSpec(shape=(), dtype=tf.resource, name=None)\n",
      "  2005039730896: TensorSpec(shape=(), dtype=tf.resource, name=None)\n",
      "  2004795699664: TensorSpec(shape=(), dtype=tf.resource, name=None)\n",
      "  2005039739728: TensorSpec(shape=(), dtype=tf.resource, name=None)\n",
      "  2005039740688: TensorSpec(shape=(), dtype=tf.resource, name=None)\n",
      "  2005039741840: TensorSpec(shape=(), dtype=tf.resource, name=None)\n",
      "  2005039742032: TensorSpec(shape=(), dtype=tf.resource, name=None)\n",
      "  2005047443728: TensorSpec(shape=(), dtype=tf.resource, name=None)\n",
      "  2005047444688: TensorSpec(shape=(), dtype=tf.resource, name=None)\n",
      "  2005047443920: TensorSpec(shape=(), dtype=tf.resource, name=None)\n",
      "  2005047446416: TensorSpec(shape=(), dtype=tf.resource, name=None)\n",
      "  2005047446992: TensorSpec(shape=(), dtype=tf.resource, name=None)\n"
     ]
    }
   ],
   "source": [
    "# Convert the model to a TensorFlow Lite model with Float16 quantization\n",
    "converter = tf.lite.TFLiteConverter.from_keras_model(trained_model)\n",
    "converter.optimizations = [tf.lite.Optimize.DEFAULT]\n",
    "\n",
    "# Enable Float16 quantization\n",
    "converter.target_spec.supported_types = [tf.float16]\n",
    "\n",
    "# Enable Select TF ops to support operations not natively supported by TFLite\n",
    "converter.target_spec.supported_ops = [tf.lite.OpsSet.TFLITE_BUILTINS, \n",
    "                                       tf.lite.OpsSet.SELECT_TF_OPS]\n",
    "\n",
    "# Disable lowering of tensor list operations\n",
    "converter._experimental_lower_tensor_list_ops = False\n",
    "\n",
    "# Enable resource variable supporta\n",
    "converter.experimental_enable_resource_variables = True\n",
    "\n",
    "# Convert the model\n",
    "tflite_float16_model = converter.convert()\n"
   ]
  },
  {
   "cell_type": "code",
   "execution_count": 5,
   "id": "33518387-118d-48b0-806b-37da8b90f796",
   "metadata": {},
   "outputs": [],
   "source": [
    "# Save the TFLite model\n",
    "with open('4G_low_quantized_f16.tflite', 'wb') as f:\n",
    "    f.write(tflite_float16_model)"
   ]
  },
  {
   "cell_type": "code",
   "execution_count": 7,
   "id": "4ec644fa-ff82-47d7-a2df-03c27e90906d",
   "metadata": {},
   "outputs": [],
   "source": [
    "import numpy as np\n",
    "X_test = np.load(r\"C:\\Users\\pranali\\Desktop\\Throughput_prediction\\test_train_vis\\Testing\\multivariate_low_test_x.npy\")\n",
    "y_test = np.load(r\"C:\\Users\\pranali\\Desktop\\Throughput_prediction\\test_train_vis\\Testing\\multivariate_low_test_y.npy\")\n"
   ]
  },
  {
   "cell_type": "code",
   "execution_count": 9,
   "id": "e710fda7-2f6d-49c2-893d-fdad0b9702ec",
   "metadata": {},
   "outputs": [],
   "source": [
    "import tensorflow as tf\n",
    "import numpy as np\n",
    "\n",
    "# Load the quantized TFLite model\n",
    "interpreter = tf.lite.Interpreter(model_path='4G_low_quantized_f16.tflite')\n",
    "interpreter.allocate_tensors()\n",
    "\n",
    "# Get details of input and output tensors\n",
    "input_details = interpreter.get_input_details()\n",
    "output_details = interpreter.get_output_details()"
   ]
  },
  {
   "cell_type": "code",
   "execution_count": 11,
   "id": "21f3b13e-e0c8-445a-92d1-b07d4e6e89e8",
   "metadata": {},
   "outputs": [
    {
     "name": "stdout",
     "output_type": "stream",
     "text": [
      "Inference Time for quantized low 4g sample: 18.367165 seconds\n",
      "Avg Inference Time for quantized low 4g sample: 0.004598 seconds\n"
     ]
    }
   ],
   "source": [
    "# Initialize list to store predictions\n",
    "import time\n",
    "\n",
    "predictions = []\n",
    "\n",
    "# Iterate over each sample in X_test\n",
    "start_time = time.time()\n",
    "for i in range(X_test.shape[0]):\n",
    "    # Prepare the input data\n",
    "    input_data = np.expand_dims(X_test[i], axis=0).astype(np.float32)\n",
    "    \n",
    "    # Set the input tensor\n",
    "    interpreter.set_tensor(input_details[0]['index'], input_data)\n",
    "   \n",
    "    # Run inference\n",
    "    interpreter.invoke()\n",
    "    \n",
    "    # Get the output tensor\n",
    "    output_data = interpreter.get_tensor(output_details[0]['index'])\n",
    "end_time = time.time()\n",
    "inference_time = (end_time - start_time)\n",
    "print(f\"Inference Time for quantized low 4g sample: {inference_time:.6f} seconds\")\n",
    "\n",
    "avg_inference_time = (end_time - start_time)/len(X_test)\n",
    "print(f\"Avg Inference Time for quantized low 4g sample: {avg_inference_time:.6f} seconds\")\n",
    "\n"
   ]
  },
  {
   "cell_type": "code",
   "execution_count": 15,
   "id": "d9e5f499-4eda-45c6-bd49-c36f76a9bc2a",
   "metadata": {},
   "outputs": [
    {
     "name": "stdout",
     "output_type": "stream",
     "text": [
      "Float16 TFLite model size: 863.18 KB\n"
     ]
    }
   ],
   "source": [
    "import os\n",
    "\n",
    "\n",
    "# Get the size of the saved quantized TFLite model\n",
    "model_size = os.path.getsize('4G_low_quantized_f16.tflite')\n",
    "print(f\"Float16 TFLite model size: {model_size / 1024:.2f} KB\")  # Convert to KB\n",
    "\n"
   ]
  },
  {
   "cell_type": "code",
   "execution_count": 17,
   "id": "1b3d130c-38f0-4c24-b532-59665fea405f",
   "metadata": {},
   "outputs": [
    {
     "name": "stdout",
     "output_type": "stream",
     "text": [
      "Mean Signed Error: -476.2632\n",
      "Median Signed Error: -392.0065\n",
      "Standard Deviation of Errors: 454.6331\n"
     ]
    },
    {
     "data": {
      "text/plain": [
       "Text(0, 0.5, 'Signed Error')"
      ]
     },
     "execution_count": 17,
     "metadata": {},
     "output_type": "execute_result"
    },
    {
     "data": {
      "image/png": "[encoded data removed]",
      "text/plain": [
       "<Figure size 640x480 with 1 Axes>"
      ]
     },
     "metadata": {},
     "output_type": "display_data"
    }
   ],
   "source": [
    "import numpy as np\n",
    "import tensorflow as tf\n",
    "import matplotlib.pyplot as plt\n",
    "import seaborn as sns\n",
    "\n",
    "# Run inference on the quantized model\n",
    "predictions = []\n",
    "for i in range(X_test.shape[0]):\n",
    "    input_data = np.expand_dims(X_test[i], axis=0).astype(np.float32)  # Adjust dtype if needed\n",
    "    interpreter.set_tensor(input_details[0]['index'], input_data)\n",
    "    interpreter.invoke()\n",
    "    output_data = interpreter.get_tensor(output_details[0]['index'])\n",
    "    predictions.append(output_data)\n",
    "\n",
    "predictions = np.squeeze(np.array(predictions))  # Adjust shape if necessary\n",
    "\n",
    "# Reshape y_test to match the shape of predictions\n",
    "y_test_squeezed = np.squeeze(y_test)  # From (3995, 5, 1) to (3995, 5)\n",
    "\n",
    "# Calculate signed errors\n",
    "signed_errors = predictions - y_test_squeezed\n",
    "\n",
    "# Flatten signed_errors to combine all errors into a single array\n",
    "signed_errors_flattened = signed_errors.flatten()\n",
    "\n",
    "# Error statistics\n",
    "mean_error = np.mean(signed_errors)\n",
    "median_error = np.median(signed_errors)\n",
    "std_error = np.std(signed_errors)\n",
    "\n",
    "print(f\"Mean Signed Error: {mean_error:.4f}\")\n",
    "print(f\"Median Signed Error: {median_error:.4f}\")\n",
    "print(f\"Standard Deviation of Errors: {std_error:.4f}\")\n",
    "\n",
    "import matplotlib.pyplot as plt\n",
    "plt.boxplot(signed_errors_flattened)\n",
    "plt.title('Signed Errors for Quantized 4G Low model (Float 16)',fontsize=14)\n",
    "plt.ylabel('Signed Error',fontsize=14)\n"
   ]
  },
  {
   "cell_type": "code",
   "execution_count": 21,
   "id": "66dd5891-562c-49d6-988b-9b93caeb500d",
   "metadata": {},
   "outputs": [
    {
     "name": "stdout",
     "output_type": "stream",
     "text": [
      "Test Loss (MSE) of the Quantized Model: 433517.895183\n",
      "Mean Absolute Error (MAE) of the Quantized Model: 476.263249\n"
     ]
    }
   ],
   "source": [
    "from sklearn.metrics import mean_absolute_error\n",
    "from sklearn.metrics import mean_squared_error\n",
    "\n",
    "\n",
    "# Calculate MAE\n",
    "mae = mean_absolute_error(y_test_squeezed, predictions)\n",
    "# Calculate Mean Squared Error (MSE) as the test loss\n",
    "mse = mean_squared_error(y_test_squeezed, predictions)\n",
    "test_loss = mse  # Assuming MSE is the loss functiona\n",
    "\n",
    "#print(f\"Mean Squared Error (MSE) of the Quantized Model: {mse:.6f}\")\n",
    "print(f\"Test Loss (MSE) of the Quantized Model: {test_loss:.6f}\")\n",
    "print(f\"Mean Absolute Error (MAE) of the Quantized Model: {mae:.6f}\")"
   ]
  },
  {
   "cell_type": "code",
   "execution_count": null,
   "id": "56e14cab-63ed-4785-a691-51e5b976be13",
   "metadata": {},
   "outputs": [],
   "source": []
  }
 ],
 "metadata": {
  "kernelspec": {
   "display_name": "Python 3 (ipykernel)",
   "language": "python",
   "name": "python3"
  },
  "language_info": {
   "codemirror_mode": {
    "name": "ipython",
    "version": 3
   },
   "file_extension": ".py",
   "mimetype": "text/x-python",
   "name": "python",
   "nbconvert_exporter": "python",
   "pygments_lexer": "ipython3",
   "version": "3.11.7"
  }
 },
 "nbformat": 4,
 "nbformat_minor": 5
}
